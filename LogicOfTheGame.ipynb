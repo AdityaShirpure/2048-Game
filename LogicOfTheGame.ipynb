{
 "cells": [
  {
   "cell_type": "code",
   "execution_count": null,
   "metadata": {},
   "outputs": [],
   "source": [
    "import random  #random module/library which generates random number in the given range.\n",
    "\n",
    "# Starting the Game with Matrix of 4 Size ,with all the values as Zero.\n",
    "\n",
    "def start_Game():\n",
    "    mat = []\n",
    "    for i in range(4):\n",
    "        mat.append([0] * 4)\n",
    "    return mat\n",
    "\n",
    "# Adding \"2\" randomly ,where the value of the position is 0 i.e empty.\n",
    "\n",
    "def add_new_2():\n",
    "    r = random.randint(0,3)\n",
    "    c = random.randint(0,3)\n",
    "\n",
    "    while mat[r][c] != 0:\n",
    "        r = random.randint(0,3)\n",
    "        c = random.randint(0,3)\n",
    "    mat[r][c] = 2"
   ]
  }
 ],
 "metadata": {
  "language_info": {
   "name": "python"
  },
  "orig_nbformat": 4
 },
 "nbformat": 4,
 "nbformat_minor": 2
}
