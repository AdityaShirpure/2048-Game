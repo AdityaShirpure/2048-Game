{
 "cells": [
  {
   "cell_type": "code",
   "execution_count": null,
   "metadata": {},
   "outputs": [],
   "source": [
    "import random  #random module/library which generates random number in the given range.\n",
    "\n",
    "# Starting the Game with Matrix of 4 Size ,with all the values as Zero.\n",
    "\n",
    "def start_Game():\n",
    "    mat = []\n",
    "    for i in range(4):\n",
    "        mat.append([0] * 4)\n",
    "    return mat\n",
    "\n",
    "# Adding \"2\" randomly ,where the value of the position is 0 i.e empty.\n",
    "\n",
    "def add_new_2():\n",
    "    r = random.randint(0,3)\n",
    "    c = random.randint(0,3)\n",
    "\n",
    "    while mat[r][c] != 0:\n",
    "        r = random.randint(0,3)\n",
    "        c = random.randint(0,3)\n",
    "    mat[r][c] = 2\n",
    "\n",
    "# Validation for the current Game Status\n",
    "\n",
    "def get_current_state(mat):\n",
    "    for i in range(4):\n",
    "        for j in range(4):\n",
    "            if(mat[i][j]== 2048):\n",
    "                return 'WON'\n",
    " \n",
    "    for i in range(4):\n",
    "        for j in range(4):\n",
    "            if(mat[i][j]== 0):\n",
    "                return 'GAME NOT OVER'\n",
    "\n",
    "    for i in range(3):\n",
    "        for j in range(3):\n",
    "            if(mat[i][j]== mat[i + 1][j] or mat[i][j]== mat[i][j + 1]):\n",
    "                return 'GAME NOT OVER'\n",
    " \n",
    "    for j in range(3):\n",
    "        if(mat[3][j]== mat[3][j + 1]):\n",
    "            return 'GAME NOT OVER'\n",
    " \n",
    "    for i in range(3):\n",
    "        if(mat[i][3]== mat[i + 1][3]):\n",
    "            return 'GAME NOT OVER'\n",
    " \n",
    "    return 'LOST'"
   ]
  }
 ],
 "metadata": {
  "language_info": {
   "name": "python"
  },
  "orig_nbformat": 4
 },
 "nbformat": 4,
 "nbformat_minor": 2
}
